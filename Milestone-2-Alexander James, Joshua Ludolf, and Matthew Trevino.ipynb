{
 "cells": [
  {
   "cell_type": "markdown",
   "metadata": {},
   "source": [
    "# Milestone 2 - Tool Comparison\n",
    "## Name: Alexander James, Joshua Ludolf, & Matthew Trevino\n",
    "``Date: 02-25-2025``\n",
    "### Description of this file:\n",
    "This Jupyter Notebook provides a comprehensive walkthrough of using the `NFStream`, `Pyshark` & `Scapy`  library for network traffic analysis. Additionally noting Strengths & Weaknesses. The notebook includes the following sections:\n",
    "\n",
    "1. **Installation of Requirements**: Installing the necessary `NFStream`, `Pyshark` & `Scapy` library.\n",
    "2. **Importing Libraries**: Importing the required libraries for network traffic analysis.\n",
    "3. **Strengths & Weaknesses**: Detailed information about the strengths and weaknesses."
   ]
  },
  {
   "cell_type": "code",
   "execution_count": 1,
   "metadata": {
    "colab": {
     "base_uri": "https://localhost:8080/"
    },
    "id": "hh6ziAOEl4h7",
    "outputId": "2f30c346-fd82-415f-d694-a0d4c8b8f218"
   },
   "outputs": [
    {
     "name": "stdout",
     "output_type": "stream",
     "text": [
      "Requirement already satisfied: nfstream in c:\\users\\joshu\\appdata\\local\\packages\\pythonsoftwarefoundation.python.3.11_qbz5n2kfra8p0\\localcache\\local-packages\\python311\\site-packages (6.5.3)\n",
      "Requirement already satisfied: cffi>=1.15.0 in c:\\users\\joshu\\appdata\\local\\packages\\pythonsoftwarefoundation.python.3.11_qbz5n2kfra8p0\\localcache\\local-packages\\python311\\site-packages (from nfstream) (1.17.1)\n",
      "Requirement already satisfied: psutil>=5.8.0 in c:\\users\\joshu\\appdata\\local\\packages\\pythonsoftwarefoundation.python.3.11_qbz5n2kfra8p0\\localcache\\local-packages\\python311\\site-packages (from nfstream) (6.1.1)\n",
      "Requirement already satisfied: dpkt>=1.9.7 in c:\\users\\joshu\\appdata\\local\\packages\\pythonsoftwarefoundation.python.3.11_qbz5n2kfra8p0\\localcache\\local-packages\\python311\\site-packages (from nfstream) (1.9.8)\n",
      "Requirement already satisfied: numpy>=1.19.5 in c:\\users\\joshu\\appdata\\local\\packages\\pythonsoftwarefoundation.python.3.11_qbz5n2kfra8p0\\localcache\\local-packages\\python311\\site-packages (from nfstream) (2.2.2)\n",
      "Requirement already satisfied: pandas>=1.1.5 in c:\\users\\joshu\\appdata\\local\\packages\\pythonsoftwarefoundation.python.3.11_qbz5n2kfra8p0\\localcache\\local-packages\\python311\\site-packages (from nfstream) (2.2.3)\n",
      "Requirement already satisfied: pycparser in c:\\users\\joshu\\appdata\\local\\packages\\pythonsoftwarefoundation.python.3.11_qbz5n2kfra8p0\\localcache\\local-packages\\python311\\site-packages (from cffi>=1.15.0->nfstream) (2.22)\n",
      "Requirement already satisfied: python-dateutil>=2.8.2 in c:\\users\\joshu\\appdata\\local\\packages\\pythonsoftwarefoundation.python.3.11_qbz5n2kfra8p0\\localcache\\local-packages\\python311\\site-packages (from pandas>=1.1.5->nfstream) (2.9.0.post0)\n",
      "Requirement already satisfied: pytz>=2020.1 in c:\\users\\joshu\\appdata\\local\\packages\\pythonsoftwarefoundation.python.3.11_qbz5n2kfra8p0\\localcache\\local-packages\\python311\\site-packages (from pandas>=1.1.5->nfstream) (2025.1)\n",
      "Requirement already satisfied: tzdata>=2022.7 in c:\\users\\joshu\\appdata\\local\\packages\\pythonsoftwarefoundation.python.3.11_qbz5n2kfra8p0\\localcache\\local-packages\\python311\\site-packages (from pandas>=1.1.5->nfstream) (2025.1)\n",
      "Requirement already satisfied: six>=1.5 in c:\\users\\joshu\\appdata\\local\\packages\\pythonsoftwarefoundation.python.3.11_qbz5n2kfra8p0\\localcache\\local-packages\\python311\\site-packages (from python-dateutil>=2.8.2->pandas>=1.1.5->nfstream) (1.17.0)\n",
      "Note: you may need to restart the kernel to use updated packages.\n",
      "Requirement already satisfied: scapy in c:\\users\\joshu\\appdata\\local\\packages\\pythonsoftwarefoundation.python.3.11_qbz5n2kfra8p0\\localcache\\local-packages\\python311\\site-packages (2.6.1)\n",
      "Note: you may need to restart the kernel to use updated packages.\n"
     ]
    }
   ],
   "source": [
    "%pip install nfstream\n",
    "%pip install scapy"
   ]
  },
  {
   "cell_type": "markdown",
   "metadata": {},
   "source": [
    "\n",
    "\n",
    "## NFStream\n",
    "\n",
    "### Strengths\n",
    "- **Performance**: Highly optimized C++ core with Python bindings makes NFStream significantly faster for processing large pcap files or real-time traffic\n",
    "- **Memory Efficiency**: Uses streaming approach that minimizes memory footprint compared to Scapy and PyShark\n",
    "- **Flow-based Analysis**: Automatically handles flow creation and tracking, providing higher-level abstractions\n",
    "- **Built-in Feature Extraction**: Provides 100+ pre-built traffic features out of the box\n",
    "- **ML Integration**: Designed to work well with machine learning pipelines\n",
    "\n",
    "### Weaknesses\n",
    "- **Less Flexibility**: Offers fewer packet manipulation capabilities compared to Scapy\n",
    "- **Learning Curve**: Flow-based paradigm may require adjustment for those used to packet-level analysis\n",
    "- **Limited Protocol Support**: Supports fewer application protocols than PyShark (which leverages Wireshark dissectors)\n",
    "- **Python Version**: Only operates in python 3.11 or 3.8 and below (other version failed in build on github)"
   ]
  },
  {
   "cell_type": "code",
   "execution_count": null,
   "metadata": {
    "id": "I81vQL5_leXo"
   },
   "outputs": [
    {
     "name": "stdout",
     "output_type": "stream",
     "text": [
      "Source IP: 192.168.1.199, Destination IP: 224.0.0.251, Protocol: 17, Bytes: 1707\n",
      "Source IP: fe80::9168:1ca9:dd4d:255c, Destination IP: ff02::fb, Protocol: 17, Bytes: 1827\n",
      "Source IP: 192.168.1.199, Destination IP: 192.168.1.1, Protocol: 17, Bytes: 1485\n",
      "Source IP: 52.109.0.91, Destination IP: 192.168.1.199, Protocol: 6, Bytes: 309\n",
      "Source IP: 192.168.1.199, Destination IP: 140.82.113.22, Protocol: 6, Bytes: 442\n",
      "Source IP: 192.168.1.199, Destination IP: 13.107.138.10, Protocol: 6, Bytes: 420761\n",
      "Source IP: 192.168.1.199, Destination IP: 52.188.247.148, Protocol: 6, Bytes: 7925\n",
      "Source IP: 13.107.246.57, Destination IP: 192.168.1.199, Protocol: 6, Bytes: 333\n",
      "Source IP: 192.168.1.199, Destination IP: 140.82.113.22, Protocol: 6, Bytes: 442\n",
      "Source IP: 192.168.1.199, Destination IP: 140.82.113.22, Protocol: 6, Bytes: 442\n",
      "Source IP: 140.82.113.22, Destination IP: 192.168.1.199, Protocol: 6, Bytes: 443\n",
      "Source IP: 192.168.1.199, Destination IP: 20.189.173.25, Protocol: 6, Bytes: 272\n",
      "Source IP: fe80::9168:1ca9:dd4d:255c, Destination IP: ff02::c, Protocol: 17, Bytes: 19974\n",
      "Source IP: 192.168.1.199, Destination IP: 192.168.1.1, Protocol: 17, Bytes: 232\n",
      "Source IP: 192.168.1.199, Destination IP: 140.82.112.5, Protocol: 6, Bytes: 53294\n",
      "Source IP: 192.168.1.199, Destination IP: 20.189.173.13, Protocol: 6, Bytes: 13794\n",
      "Source IP: 192.168.1.199, Destination IP: 140.82.114.4, Protocol: 6, Bytes: 8060\n",
      "Source IP: 192.168.1.199, Destination IP: 13.89.179.9, Protocol: 6, Bytes: 35091\n",
      "Source IP: 192.168.1.199, Destination IP: 104.208.16.91, Protocol: 6, Bytes: 13579\n",
      "Source IP: 192.168.1.199, Destination IP: 52.104.140.55, Protocol: 6, Bytes: 16215\n",
      "Source IP: 192.168.1.199, Destination IP: 13.107.5.93, Protocol: 6, Bytes: 163\n",
      "Source IP: 192.168.1.199, Destination IP: 20.189.173.12, Protocol: 6, Bytes: 216\n",
      "Source IP: 192.168.1.199, Destination IP: 13.107.42.18, Protocol: 6, Bytes: 163\n",
      "Source IP: 20.7.1.246, Destination IP: 192.168.1.199, Protocol: 6, Bytes: 709\n",
      "Source IP: 192.168.1.199, Destination IP: 224.0.0.251, Protocol: 17, Bytes: 1707\n",
      "Source IP: fe80::9168:1ca9:dd4d:255c, Destination IP: ff02::fb, Protocol: 17, Bytes: 1827\n",
      "Source IP: 192.168.1.199, Destination IP: 192.168.1.1, Protocol: 17, Bytes: 348\n",
      "Source IP: 192.168.1.199, Destination IP: 192.168.1.1, Protocol: 17, Bytes: 372\n",
      "Source IP: 192.168.1.199, Destination IP: 20.72.205.209, Protocol: 6, Bytes: 6864\n",
      "Source IP: fe80::9168:1ca9:dd4d:255c, Destination IP: ff02::fb, Protocol: 17, Bytes: 1827\n",
      "Source IP: 192.168.1.199, Destination IP: 224.0.0.251, Protocol: 17, Bytes: 1707\n",
      "Source IP: 192.168.1.199, Destination IP: 20.7.1.246, Protocol: 6, Bytes: 109\n",
      "Source IP: 192.168.1.199, Destination IP: 20.60.237.161, Protocol: 6, Bytes: 4426776\n",
      "Source IP: 20.7.1.246, Destination IP: 192.168.1.199, Protocol: 6, Bytes: 711\n",
      "Source IP: 192.168.1.199, Destination IP: 239.255.255.250, Protocol: 17, Bytes: 18966\n",
      "Source IP: fe80::9168:1ca9:dd4d:255c, Destination IP: ff02::fb, Protocol: 17, Bytes: 1827\n",
      "Source IP: 192.168.1.199, Destination IP: 224.0.0.251, Protocol: 17, Bytes: 1707\n",
      "Source IP: 192.168.1.199, Destination IP: 192.168.1.1, Protocol: 17, Bytes: 1890\n",
      "Source IP: 192.168.1.199, Destination IP: 23.219.160.232, Protocol: 6, Bytes: 867\n",
      "Source IP: 192.168.1.199, Destination IP: 192.168.1.1, Protocol: 17, Bytes: 232\n",
      "Source IP: 192.168.1.199, Destination IP: 140.82.114.6, Protocol: 6, Bytes: 53311\n",
      "Source IP: 192.168.1.199, Destination IP: 192.168.1.1, Protocol: 17, Bytes: 162\n",
      "Source IP: 192.168.1.199, Destination IP: 140.82.113.4, Protocol: 6, Bytes: 7959\n",
      "Source IP: fe80::9168:1ca9:dd4d:255c, Destination IP: ff02::c, Protocol: 17, Bytes: 10011\n",
      "Source IP: 192.168.1.199, Destination IP: 192.168.1.1, Protocol: 17, Bytes: 328\n",
      "Source IP: 192.168.1.199, Destination IP: 52.168.117.168, Protocol: 6, Bytes: 34050\n",
      "Source IP: 192.168.1.199, Destination IP: 52.168.117.168, Protocol: 6, Bytes: 9801\n",
      "Source IP: 20.7.1.246, Destination IP: 192.168.1.199, Protocol: 6, Bytes: 711\n",
      "Source IP: 192.168.1.199, Destination IP: 224.0.0.251, Protocol: 17, Bytes: 1707\n",
      "Source IP: fe80::9168:1ca9:dd4d:255c, Destination IP: ff02::fb, Protocol: 17, Bytes: 1827\n"
     ]
    }
   ],
   "source": [
    "from nfstream import NFStreamer\n",
    "\n",
    "# Use the Intel(R) Wi-Fi 6 AX201 160MHz interface name for pc (found using `ipconfig` or `ip addr` and then copying description of interface as source)\n",
    "streamer = NFStreamer(source=\"Intel(R) Wi-Fi 6 AX201 160MHz\")\n",
    "\n",
    "for flow in streamer:\n",
    "    print(f\"Source IP: {flow.src_ip}, Destination IP: {flow.dst_ip}, Protocol: {flow.protocol}, Bytes: {flow.bidirectional_bytes}\")"
   ]
  },
  {
   "cell_type": "markdown",
   "metadata": {},
   "source": [
    "## Scapy\n",
    "\n",
    "### Strengths\n",
    "- **Performance**: Significantly faster than NFStream for large-scale analysis\n",
    "- **Packet Creation/Manipulation**: Unmatched flexibility for crafting custom packets and protocols\n",
    "- **Interactive Use**: Excellent for testing and experimenting with network protocols\n",
    "- **Powerful Dissection**: Can decode a wide range of protocols with manual control\n",
    "- **Scriptability**: Great for automating complex network tasks and penetration testing\n",
    "\n",
    "### Weaknesses\n",
    "- **Memory Usage**: Loads entire packet captures into memory\n",
    "- **Steep Learning Curve**: Requires deep knowledge of protocol structures\n",
    "- **Limited Scalability**: Not ideal for processing gigabytes of traffic data"
   ]
  },
  {
   "cell_type": "code",
   "execution_count": 2,
   "metadata": {
    "id": "6ZITz9oZmRgS"
   },
   "outputs": [
    {
     "name": "stdout",
     "output_type": "stream",
     "text": [
      "\n",
      "Sent 1 packets.\n",
      "Packet: Ether / IP / TCP 192.168.1.1:http > 192.168.1.199:ftp_data SA\n",
      "Packet: Ether / IP / TCP 192.168.1.199:64527 > 52.96.121.162:https A / Raw\n",
      "Packet: Ether / IP / TCP 52.96.121.162:https > 192.168.1.199:64527 A\n",
      "Packet: Ether / IP / TCP 192.168.1.199:49411 > 20.7.1.246:https A / Raw\n",
      "Packet: Ether / IP / TCP 20.7.1.246:https > 192.168.1.199:49411 A\n",
      "Packet: Ether / IP / TCP 192.168.1.1:http > 192.168.1.199:ftp_data SA\n",
      "Packet: Ether / IP / TCP 52.182.143.208:https > 192.168.1.199:65324 PA / Raw\n",
      "Packet: Ether / IP / TCP 52.182.143.208:https > 192.168.1.199:65324 FA\n",
      "Packet: Ether / IP / TCP 192.168.1.199:65324 > 52.182.143.208:https A\n",
      "Packet: Ether / IP / TCP 192.168.1.199:65324 > 52.182.143.208:https PA / Raw\n"
     ]
    },
    {
     "data": {
      "text/plain": [
       "<Sniffed: TCP:10 UDP:0 ICMP:0 Other:0>"
      ]
     },
     "execution_count": 2,
     "metadata": {},
     "output_type": "execute_result"
    }
   ],
   "source": [
    "from scapy.all import IP, TCP, send, sniff\n",
    "\n",
    "# Create a custom packet\n",
    "packet = IP(dst=\"192.168.1.1\")/TCP(dport=80)/\"GET / HTTP/1.1\\r\\nHost: 192.168.1.1\\r\\n\\r\\n\"\n",
    "\n",
    "# Send the packet\n",
    "send(packet)\n",
    "\n",
    "# Sniff and analyze packets\n",
    "def packet_callback(packet):\n",
    "    if packet.haslayer(TCP):\n",
    "        print(f\"Packet: {packet.summary()}\")\n",
    "\n",
    "sniff(iface=\"Intel(R) Wi-Fi 6 AX201 160MHz\", prn=packet_callback, count=10)"
   ]
  },
  {
   "cell_type": "markdown",
   "metadata": {},
   "source": [
    "## PyShark - See/execute shark.py for sample\n",
    "\n",
    "### Strengths\n",
    "- **Wireshark Integration**: Access to all Wireshark dissectors for comprehensive protocol support\n",
    "- **Readable Output**: Human-friendly packet information similar to Wireshark GUI\n",
    "- **Familiar Interface**: Easy transition for Wireshark users\n",
    "- **Deep Packet Inspection**: Excellent for detailed protocol analysis\n",
    "\n",
    "### Weaknesses\n",
    "- **Performance**: Much slower than NFStream, relies on tshark processes\n",
    "- **Resource Intensive**: High memory usage when dealing with large captures\n",
    "- **Dependency on Wireshark**: Requires Wireshark/tshark installation\n",
    "- **Limited Packet Creation**: Not designed for packet crafting like Scapy\n",
    "- **Jupyter Notebook Limitations**: Often encounters execution issues in Jupyter Notebook \n",
    "        environments due to asynchronous processing requirements"
   ]
  }
 ],
 "metadata": {
  "colab": {
   "provenance": []
  },
  "kernelspec": {
   "display_name": "Python 3",
   "language": "python",
   "name": "python3"
  },
  "language_info": {
   "codemirror_mode": {
    "name": "ipython",
    "version": 3
   },
   "file_extension": ".py",
   "mimetype": "text/x-python",
   "name": "python",
   "nbconvert_exporter": "python",
   "pygments_lexer": "ipython3",
   "version": "3.11.9"
  }
 },
 "nbformat": 4,
 "nbformat_minor": 0
}
