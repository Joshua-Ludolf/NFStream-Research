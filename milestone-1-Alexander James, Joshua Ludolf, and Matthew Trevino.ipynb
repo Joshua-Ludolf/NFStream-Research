{
 "cells": [
  {
   "cell_type": "markdown",
   "metadata": {},
   "source": [
    "# Milestone 1 - NFStream Code Walkthrough \n",
    "## Name: Alexander James, Joshua Ludolf, & Matthew Trevino\n",
    "``Date: 02-24-2025``\n",
    "### Description of this file:\n",
    "This Jupyter Notebook provides a comprehensive walkthrough of using the `nfstream` library for network traffic analysis. The notebook includes the following sections:\n",
    "\n",
    "1. **Installation of Requirements**: Installing the necessary `nfstream` library.\n",
    "2. **Importing Libraries**: Importing the required libraries for network traffic analysis.\n",
    "3. **Library Information**: Detailed information about the `nfstream` library and its key features.\n",
    "4. **Main Function**: Defining and executing the main function to read a pcap file, analyze the network flows, and convert the flows into a pandas DataFrame for further analysis and visualization.\n"
   ]
  },
  {
   "cell_type": "code",
   "execution_count": 19,
   "metadata": {},
   "outputs": [
    {
     "name": "stdout",
     "output_type": "stream",
     "text": [
      "Requirement already satisfied: nfstream in c:\\users\\joshu\\onedrive - texas a&m university-san antonio\\spring 2025\\computer security\\milestone 1\\computer-security\\.venv\\lib\\site-packages (6.5.3)\n",
      "Requirement already satisfied: cffi>=1.15.0 in c:\\users\\joshu\\onedrive - texas a&m university-san antonio\\spring 2025\\computer security\\milestone 1\\computer-security\\.venv\\lib\\site-packages (from nfstream) (1.17.1)\n",
      "Requirement already satisfied: psutil>=5.8.0 in c:\\users\\joshu\\onedrive - texas a&m university-san antonio\\spring 2025\\computer security\\milestone 1\\computer-security\\.venv\\lib\\site-packages (from nfstream) (6.1.1)\n",
      "Requirement already satisfied: dpkt>=1.9.7 in c:\\users\\joshu\\onedrive - texas a&m university-san antonio\\spring 2025\\computer security\\milestone 1\\computer-security\\.venv\\lib\\site-packages (from nfstream) (1.9.8)\n",
      "Requirement already satisfied: numpy>=1.19.5 in c:\\users\\joshu\\onedrive - texas a&m university-san antonio\\spring 2025\\computer security\\milestone 1\\computer-security\\.venv\\lib\\site-packages (from nfstream) (2.2.2)\n",
      "Requirement already satisfied: pandas>=1.1.5 in c:\\users\\joshu\\onedrive - texas a&m university-san antonio\\spring 2025\\computer security\\milestone 1\\computer-security\\.venv\\lib\\site-packages (from nfstream) (2.2.3)\n",
      "Requirement already satisfied: pycparser in c:\\users\\joshu\\onedrive - texas a&m university-san antonio\\spring 2025\\computer security\\milestone 1\\computer-security\\.venv\\lib\\site-packages (from cffi>=1.15.0->nfstream) (2.22)\n",
      "Requirement already satisfied: python-dateutil>=2.8.2 in c:\\users\\joshu\\onedrive - texas a&m university-san antonio\\spring 2025\\computer security\\milestone 1\\computer-security\\.venv\\lib\\site-packages (from pandas>=1.1.5->nfstream) (2.9.0.post0)\n",
      "Requirement already satisfied: pytz>=2020.1 in c:\\users\\joshu\\onedrive - texas a&m university-san antonio\\spring 2025\\computer security\\milestone 1\\computer-security\\.venv\\lib\\site-packages (from pandas>=1.1.5->nfstream) (2025.1)\n",
      "Requirement already satisfied: tzdata>=2022.7 in c:\\users\\joshu\\onedrive - texas a&m university-san antonio\\spring 2025\\computer security\\milestone 1\\computer-security\\.venv\\lib\\site-packages (from pandas>=1.1.5->nfstream) (2025.1)\n",
      "Requirement already satisfied: six>=1.5 in c:\\users\\joshu\\onedrive - texas a&m university-san antonio\\spring 2025\\computer security\\milestone 1\\computer-security\\.venv\\lib\\site-packages (from python-dateutil>=2.8.2->pandas>=1.1.5->nfstream) (1.17.0)\n",
      "Note: you may need to restart the kernel to use updated packages.\n"
     ]
    }
   ],
   "source": [
    "# Installing Requirements\n",
    "%pip install nfstream"
   ]
  },
  {
   "cell_type": "code",
   "execution_count": 20,
   "metadata": {},
   "outputs": [],
   "source": [
    "# Importing the required libraries\n",
    "from nfstream import NFStreamer\n",
    "import os"
   ]
  },
  {
   "cell_type": "markdown",
   "metadata": {},
   "source": [
    "## More Information about the nfstream Library\n",
    "\n",
    "The `nfstream` library is a Python package designed for network traffic analysis. It provides a high-level interface to capture, analyze, and process network flows from pcap files or live network interfaces. The library is built on top of the nDPI (ntop Deep Packet Inspection) library, which allows it to perform deep packet inspection and extract detailed information from network traffic.\n",
    "\n",
    "### Key Features:\n",
    "- **Flow-based Analysis**: Extracts and processes network flows, which are sequences of packets sharing common attributes such as source and destination IP addresses, ports, and protocols.\n",
    "- **Deep Packet Inspection**: Uses nDPI to classify traffic and extract metadata from packets, including application protocols, SSL/TLS information, and more.\n",
    "- **Customizable**: Allows users to define custom BPF (Berkeley Packet Filter) filters, set snapshot lengths, and configure various timeout settings for flow analysis.\n",
    "- **Integration with Pandas**: Converts network flows into Pandas DataFrames for easy manipulation, analysis, and visualization.\n",
    "- **Performance Reporting**: Provides performance metrics and reports for the analyzed traffic.\n",
    "\n"
   ]
  },
  {
   "cell_type": "code",
   "execution_count": 21,
   "metadata": {},
   "outputs": [
    {
     "name": "stdout",
     "output_type": "stream",
     "text": [
      "\n",
      "    expiration_id                                  src_ip            src_mac  \\\n",
      "id                                                                             \n",
      "0               0               fe80::7624:9fff:fed0:d00e  74:24:9f:d0:d0:0e   \n",
      "1               0  2605:59c8:414b:af10:872:cc47:73ae:7753  56:b3:0b:bf:aa:87   \n",
      "2               0                           192.168.1.246  56:b3:0b:bf:aa:87   \n",
      "3               0    fdf9:1a05:99d8:10:872:cc47:73ae:7753  56:b3:0b:bf:aa:87   \n",
      "4               0  2605:59c8:414b:af10:872:cc47:73ae:7753  56:b3:0b:bf:aa:87   \n",
      "5               0  2605:59c8:414b:af10:872:cc47:73ae:7753  56:b3:0b:bf:aa:87   \n",
      "\n",
      "     src_oui  src_port                                dst_ip  \\\n",
      "id                                                             \n",
      "0   74:24:9f         0  fdf9:1a05:99d8:10:872:cc47:73ae:7753   \n",
      "1   56:b3:0b     56458                      2620:1ec:8f8::10   \n",
      "2   56:b3:0b     56506                        52.168.117.174   \n",
      "3   56:b3:0b         0                  fdf9:1a05:99d8:10::1   \n",
      "4   56:b3:0b     56456                      2620:1ec:8f8::10   \n",
      "5   56:b3:0b     56459                      2620:1ec:8f8::10   \n",
      "\n",
      "              dst_mac   dst_oui  dst_port  protocol  ...  dst2src_bytes  \\\n",
      "id                                                   ...                  \n",
      "0   56:b3:0b:bf:aa:87  56:b3:0b         0        58  ...             86   \n",
      "1   74:24:9f:d0:d0:0e  74:24:9f       443         6  ...          10296   \n",
      "2   74:24:9f:d0:d0:0e  74:24:9f       443         6  ...            608   \n",
      "3   74:24:9f:d0:d0:0e  74:24:9f         0        58  ...             78   \n",
      "4   74:24:9f:d0:d0:0e  74:24:9f       443         6  ...         116612   \n",
      "5   74:24:9f:d0:d0:0e  74:24:9f       443         6  ...          95783   \n",
      "\n",
      "    application_name  application_category_name  application_is_guessed  \\\n",
      "id                                                                        \n",
      "0             ICMPV6                    Network                       0   \n",
      "1                TLS                        Web                       0   \n",
      "2                TLS                        Web                       0   \n",
      "3             ICMPV6                    Network                       0   \n",
      "4                TLS                        Web                       0   \n",
      "5                TLS                        Web                       0   \n",
      "\n",
      "    application_confidence  requested_server_name  client_fingerprint  \\\n",
      "id                                                                      \n",
      "0                        6                    NaN                 NaN   \n",
      "1                        6                    NaN                 NaN   \n",
      "2                        6                    NaN                 NaN   \n",
      "3                        6                    NaN                 NaN   \n",
      "4                        6                    NaN                 NaN   \n",
      "5                        6                    NaN                 NaN   \n",
      "\n",
      "    server_fingerprint  user_agent  content_type  \n",
      "id                                                \n",
      "0                  NaN         NaN           NaN  \n",
      "1                  NaN         NaN           NaN  \n",
      "2                  NaN         NaN           NaN  \n",
      "3                  NaN         NaN           NaN  \n",
      "4                  NaN         NaN           NaN  \n",
      "5                  NaN         NaN           NaN  \n",
      "\n",
      "[6 rows x 37 columns]\n"
     ]
    }
   ],
   "source": [
    "# Defining the main function\n",
    "def main():\n",
    "    pcap_file = os.path.join(os.getcwd(), \"wifi.pcapng\")\n",
    "\n",
    "    # Check if the file exists\n",
    "    if not os.path.isfile(pcap_file):\n",
    "        raise FileNotFoundError(f\"The file {pcap_file} does not exist.\")\n",
    "\n",
    "    # Create a NFStreamer object to analyze pcap file and extract flows\n",
    "\n",
    "    my_streamer = NFStreamer(source=pcap_file,\n",
    "                             decode_tunnels=True,\n",
    "                             bpf_filter=None,\n",
    "                             promiscuous_mode=True,\n",
    "                             snapshot_length=1093,\n",
    "                             idle_timeout=120,\n",
    "                             active_timeout=1800,\n",
    "                             accounting_mode=0,\n",
    "                             udps=None,\n",
    "                             n_dissections=20,\n",
    "                             statistical_analysis=False,\n",
    "                             splt_analysis=0,\n",
    "                             n_meters=0,\n",
    "                             max_nflows=0,\n",
    "                             performance_report=0,\n",
    "                             system_visibility_mode=0,\n",
    "                             system_visibility_poll_ms=100)\n",
    "    \n",
    "\n",
    "    my_dataframe = my_streamer.to_pandas(columns_to_anonymize=[]).set_index('id') # convert the flows to a pandas dataframe and set 'id' as the index column\n",
    "    print(f\"\\n{my_dataframe}\") # print the dataframe\n",
    "    \n",
    "    total_flows_count = my_streamer.to_csv(path=None, columns_to_anonymize=[], flows_per_file=0, rotate_files=0) # convert the flows to a csv file\n",
    "    \n",
    "if __name__ == '__main__':\n",
    "    main()"
   ]
  }
 ],
 "metadata": {
  "kernelspec": {
   "display_name": ".venv",
   "language": "python",
   "name": "python3"
  },
  "language_info": {
   "codemirror_mode": {
    "name": "ipython",
    "version": 3
   },
   "file_extension": ".py",
   "mimetype": "text/x-python",
   "name": "python",
   "nbconvert_exporter": "python",
   "pygments_lexer": "ipython3",
   "version": "3.11.9"
  }
 },
 "nbformat": 4,
 "nbformat_minor": 2
}
