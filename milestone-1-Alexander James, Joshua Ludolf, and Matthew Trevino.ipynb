{
 "cells": [
  {
   "cell_type": "markdown",
   "metadata": {},
   "source": [
    "# Milestone 1 - NFStream Code Walkthrough \n",
    "## Name: Alexander James, Joshua Ludolf, & Matthew Trevino\n",
    "``Date: 02-24-2025``\n",
    "### Description of this file:\n",
    "This Jupyter Notebook provides a comprehensive walkthrough of using the `nfstream` library for network traffic analysis. The notebook includes the following sections:\n",
    "\n",
    "1. **Installation of Requirements**: Installing the necessary `nfstream` library.\n",
    "2. **Importing Libraries**: Importing the required libraries for network traffic analysis.\n",
    "3. **Library Information**: Detailed information about the `nfstream` library and its key features.\n",
    "4. **Main Function**: Defining and executing the main function to read a pcap file, analyze the network flows, and convert the flows into a pandas DataFrame for further analysis and visualization.\n"
   ]
  },
  {
   "cell_type": "code",
   "execution_count": null,
   "metadata": {},
   "outputs": [
    {
     "name": "stdout",
     "output_type": "stream",
     "text": [
      "Collecting nfstream\n",
      "  Using cached nfstream-3.1.0.tar.gz (941 kB)\n",
      "  Preparing metadata (setup.py): started\n",
      "  Preparing metadata (setup.py): finished with status 'done'\n",
      "Requirement already satisfied: cffi>=1.13.1 in c:\\users\\joshu\\anaconda3\\lib\\site-packages (from nfstream) (1.17.1)\n",
      "Requirement already satisfied: pyzmq>=18.1.1 in c:\\users\\joshu\\anaconda3\\lib\\site-packages (from nfstream) (25.1.2)\n",
      "Requirement already satisfied: pycparser in c:\\users\\joshu\\anaconda3\\lib\\site-packages (from cffi>=1.13.1->nfstream) (2.21)\n",
      "Building wheels for collected packages: nfstream\n",
      "  Building wheel for nfstream (setup.py): started\n",
      "  Building wheel for nfstream (setup.py): finished with status 'done'\n",
      "  Created wheel for nfstream: filename=nfstream-3.1.0-cp312-cp312-win_amd64.whl size=947754 sha256=8fbb12a86195baade1bf265a9345a9beacabed499d9f07d4de7b9233abb6f98a\n",
      "  Stored in directory: c:\\users\\joshu\\appdata\\local\\pip\\cache\\wheels\\49\\4c\\af\\0eaea4b69fbc52da17c49ec61f836b6b789ed677934d377209\n",
      "Successfully built nfstream\n",
      "Installing collected packages: nfstream\n",
      "Successfully installed nfstream-3.1.0\n",
      "Note: you may need to restart the kernel to use updated packages.\n"
     ]
    }
   ],
   "source": [
    "# Installing Requirements\n",
    "%pip install nfstream"
   ]
  },
  {
   "cell_type": "code",
   "execution_count": null,
   "metadata": {},
   "outputs": [],
   "source": [
    "# Importing the required libraries\n",
    "from nfstream import NFStreamer, NFPlugin\n",
    "import pandas as pd\n",
    "import os"
   ]
  },
  {
   "cell_type": "markdown",
   "metadata": {},
   "source": [
    "## More Information about the nfstream Library\n",
    "\n",
    "The `nfstream` library is a Python package designed for network traffic analysis. It provides a high-level interface to capture, analyze, and process network flows from pcap files or live network interfaces. The library is built on top of the nDPI (ntop Deep Packet Inspection) library, which allows it to perform deep packet inspection and extract detailed information from network traffic.\n",
    "\n",
    "### Key Features:\n",
    "- **Flow-based Analysis**: Extracts and processes network flows, which are sequences of packets sharing common attributes such as source and destination IP addresses, ports, and protocols.\n",
    "- **Deep Packet Inspection**: Uses nDPI to classify traffic and extract metadata from packets, including application protocols, SSL/TLS information, and more.\n",
    "- **Customizable**: Allows users to define custom BPF (Berkeley Packet Filter) filters, set snapshot lengths, and configure various timeout settings for flow analysis.\n",
    "- **Integration with Pandas**: Converts network flows into Pandas DataFrames for easy manipulation, analysis, and visualization.\n",
    "- **Performance Reporting**: Provides performance metrics and reports for the analyzed traffic.\n",
    "\n"
   ]
  },
  {
   "cell_type": "code",
   "execution_count": null,
   "metadata": {},
   "outputs": [
    {
     "name": "stdout",
     "output_type": "stream",
     "text": [
      "\n",
      "    expiration_id           src_ip            src_mac   src_oui  src_port  \\\n",
      "id                                                                          \n",
      "0               0   196.72.132.179  00:0c:41:82:b2:55  00:0c:41         0   \n",
      "1               0      95.23.88.82  00:0c:41:82:b2:55  00:0c:41         0   \n",
      "2               0  254.142.107.185  00:0c:41:82:b2:55  00:0c:41         0   \n",
      "3               0    67.197.56.252  00:0d:93:82:36:3a  00:0d:93         0   \n",
      "4               0       147.4.3.34  00:0c:41:82:b2:55  00:0c:41         0   \n",
      "5               0   191.235.101.72  00:0d:93:82:36:3a  00:0d:93         0   \n",
      "6               0  129.243.140.209  00:0c:41:82:b2:55  00:0c:41         0   \n",
      "7               0     71.34.18.237  00:0d:93:82:36:3a  00:0d:93         0   \n",
      "\n",
      "             dst_ip            dst_mac   dst_oui  dst_port  protocol  ...  \\\n",
      "id                                                                    ...   \n",
      "0     62.141.236.37  00:0c:41:82:b2:53  00:0c:41         0       235  ...   \n",
      "1      65.112.32.72  00:0c:41:82:b2:53  00:0c:41         0        61  ...   \n",
      "2     34.64.127.182  00:0c:41:82:b2:53  00:0c:41         0       119  ...   \n",
      "3      82.21.187.33  09:00:07:ff:ff:ff  09:00:07         0       199  ...   \n",
      "4   151.145.253.164  00:0c:41:82:b2:55  00:0c:41         0        30  ...   \n",
      "5     235.179.82.46  33:33:00:00:00:02  33:33:00         0        84  ...   \n",
      "6     24.116.46.234  00:0c:41:82:b2:55  00:0c:41         0       157  ...   \n",
      "7    148.153.220.84  00:0c:41:82:b2:53  00:0c:41         0        67  ...   \n",
      "\n",
      "    dst2src_bytes  application_name  application_category_name  \\\n",
      "id                                                               \n",
      "0               0           Unknown                Unspecified   \n",
      "1               0           Unknown                Unspecified   \n",
      "2               0           Unknown                Unspecified   \n",
      "3               0           Unknown                Unspecified   \n",
      "4               0           Unknown                Unspecified   \n",
      "5               0           Unknown                Unspecified   \n",
      "6               0           Unknown                Unspecified   \n",
      "7               0           Unknown                Unspecified   \n",
      "\n",
      "    application_is_guessed  application_confidence  requested_server_name  \\\n",
      "id                                                                          \n",
      "0                        0                       0                    NaN   \n",
      "1                        0                       0                    NaN   \n",
      "2                        0                       0                    NaN   \n",
      "3                        0                       0                    NaN   \n",
      "4                        0                       0                    NaN   \n",
      "5                        0                       0                    NaN   \n",
      "6                        0                       0                    NaN   \n",
      "7                        0                       0                    NaN   \n",
      "\n",
      "    client_fingerprint  server_fingerprint  user_agent  content_type  \n",
      "id                                                                    \n",
      "0                  NaN                 NaN         NaN           NaN  \n",
      "1                  NaN                 NaN         NaN           NaN  \n",
      "2                  NaN                 NaN         NaN           NaN  \n",
      "3                  NaN                 NaN         NaN           NaN  \n",
      "4                  NaN                 NaN         NaN           NaN  \n",
      "5                  NaN                 NaN         NaN           NaN  \n",
      "6                  NaN                 NaN         NaN           NaN  \n",
      "7                  NaN                 NaN         NaN           NaN  \n",
      "\n",
      "[8 rows x 37 columns]\n"
     ]
    }
   ],
   "source": [
    "# Defining the main function\n",
    "def main():\n",
    "    pcap_file = os.path.join(os.getcwd(), \"demo.pcap\")\n",
    "\n",
    "    # Check if the file exists\n",
    "    if not os.path.isfile(pcap_file):\n",
    "        raise FileNotFoundError(f\"The file {pcap_file} does not exist.\")\n",
    "\n",
    "    # Create a NFStreamer object to analyze pcap file and extract flows\n",
    "\n",
    "    my_streamer = NFStreamer(source=pcap_file,\n",
    "                             decode_tunnels=True,\n",
    "                             bpf_filter=None,\n",
    "                             promiscuous_mode=True,\n",
    "                             snapshot_length=1093,\n",
    "                             idle_timeout=120,\n",
    "                             active_timeout=1800,\n",
    "                             accounting_mode=0,\n",
    "                             udps=None,\n",
    "                             n_dissections=20,\n",
    "                             statistical_analysis=False,\n",
    "                             splt_analysis=0,\n",
    "                             n_meters=0,\n",
    "                             max_nflows=0,\n",
    "                             performance_report=0,\n",
    "                             system_visibility_mode=0,\n",
    "                             system_visibility_poll_ms=100)\n",
    "    \n",
    "\n",
    "    my_dataframe = my_streamer.to_pandas(columns_to_anonymize=[]).set_index('id') # convert the flows to a pandas dataframe and set 'id' as the index column\n",
    "    print(f\"\\n{my_dataframe}\") # print the dataframe\n",
    "    \n",
    "    total_flows_count = my_streamer.to_csv(path=None, columns_to_anonymize=[], flows_per_file=0, rotate_files=0) # convert the flows to a csv file\n",
    "    \n",
    "if __name__ == '__main__':\n",
    "    main()"
   ]
  }
 ],
 "metadata": {
  "kernelspec": {
   "display_name": ".venv",
   "language": "python",
   "name": "python3"
  },
  "language_info": {
   "codemirror_mode": {
    "name": "ipython",
    "version": 3
   },
   "file_extension": ".py",
   "mimetype": "text/x-python",
   "name": "python",
   "nbconvert_exporter": "python",
   "pygments_lexer": "ipython3",
   "version": "3.11.9"
  }
 },
 "nbformat": 4,
 "nbformat_minor": 4
}
